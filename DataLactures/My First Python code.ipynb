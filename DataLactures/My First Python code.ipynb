{
 "cells": [
  {
   "cell_type": "code",
   "execution_count": 1,
   "id": "0eb8637e",
   "metadata": {},
   "outputs": [
    {
     "name": "stdout",
     "output_type": "stream",
     "text": [
      "Sumit Pandey Course name Data Science\n"
     ]
    }
   ],
   "source": [
    "print(\"Sumit Pandey\",\"Course name Data Science\")"
   ]
  },
  {
   "cell_type": "code",
   "execution_count": 2,
   "id": "00d81e25",
   "metadata": {},
   "outputs": [
    {
     "name": "stdout",
     "output_type": "stream",
     "text": [
      "Sumit Pandey\n",
      "Data Science\n"
     ]
    }
   ],
   "source": [
    "Name = \"Sumit Pandey\"\n",
    "Course = \"Data Science\"\n",
    "print(Name)\n",
    "print(Course)\n"
   ]
  },
  {
   "cell_type": "code",
   "execution_count": null,
   "id": "3a99f70f",
   "metadata": {},
   "outputs": [],
   "source": []
  }
 ],
 "metadata": {
  "kernelspec": {
   "display_name": "Python 3 (ipykernel)",
   "language": "python",
   "name": "python3"
  },
  "language_info": {
   "codemirror_mode": {
    "name": "ipython",
    "version": 3
   },
   "file_extension": ".py",
   "mimetype": "text/x-python",
   "name": "python",
   "nbconvert_exporter": "python",
   "pygments_lexer": "ipython3",
   "version": "3.10.9"
  }
 },
 "nbformat": 4,
 "nbformat_minor": 5
}
